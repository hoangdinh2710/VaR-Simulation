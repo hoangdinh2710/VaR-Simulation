{
 "cells": [
  {
   "cell_type": "code",
   "execution_count": 6,
   "metadata": {},
   "outputs": [],
   "source": [
    "import pandas as pd\n",
    "import numpy as np\n",
    "from sklearn.linear_model import LinearRegression\n",
    "import matplotlib.pyplot as plt\n",
    "from scipy.stats import norm\n",
    "import datetime as dt\n",
    "%matplotlib inline"
   ]
  },
  {
   "cell_type": "code",
   "execution_count": 7,
   "metadata": {},
   "outputs": [],
   "source": [
    "sectordata = pd.read_excel(r'C:\\Users\\hoang\\Desktop\\Research Paper\\sector.xlsx',index_col='DATE',parse_dates= True)\n",
    "sectordata['Year'] = sectordata.index.year"
   ]
  },
  {
   "cell_type": "code",
   "execution_count": 8,
   "metadata": {},
   "outputs": [],
   "source": [
    "funddata = pd.read_excel(r'C:\\Users\\hoang\\Desktop\\Research Paper\\fund.xlsx',index_col ='DATE', parse_dates= True)\n",
    "funddata['Year'] = funddata.index.year"
   ]
  },
  {
   "cell_type": "code",
   "execution_count": 9,
   "metadata": {},
   "outputs": [],
   "source": [
    "sector_name_list = ['S5TELS', 'S5COND', 'S5CONS', 'S5ENRS', 'S5FINL', 'S5HLTH', 'S5INDU',\n",
    "       'S5INFT', 'S5MATR', 'S5RLST', 'S5UTIL']\n",
    "fund_name_list = ['OLGAX', 'VSCOX', 'RSEGX', 'ALSAX', 'WMICX', 'IALAX', 'FKSAX', 'MSEGX',\n",
    "       'WAMCX', 'BMGAX']"
   ]
  },
  {
   "cell_type": "code",
   "execution_count": 10,
   "metadata": {},
   "outputs": [],
   "source": [
    "# Create a dictionary with name convention is:  fund name_year\n",
    "fund_dict ={}\n",
    "\n",
    "for i in fund_name_list:\n",
    "    for yr in np.arange(2002,2019,1):\n",
    "        fund_dict[i+'_'+str(yr)] = funddata[i][(funddata['Year'] == yr)]\n",
    "        \n",
    "# Create a dictionary with name convention is:  sector name_year\n",
    "sector_dict ={}\n",
    "\n",
    "for i in sector_name_list:\n",
    "    for yr in np.arange(2002,2019,1):\n",
    "        sector_dict[i+'_'+str(yr)] = sectordata[i][(sectordata['Year'] == yr)]"
   ]
  },
  {
   "cell_type": "code",
   "execution_count": 11,
   "metadata": {},
   "outputs": [],
   "source": [
    "# Create a sector dictionary with name convention is: sectordata_year ( not breakdown to sector level)\n",
    "\n",
    "sectordata_dict = {}\n",
    "\n",
    "for yr in np.arange(2002,2019,1):\n",
    "    sectordata_dict[str(yr)] = sectordata[sectordata['Year'] == yr]\n",
    "    \n",
    "# Create a dictionary with name convention is:  fund name_year ( not breakdown to fund level)\n",
    "funddata_dict ={}\n",
    "\n",
    "for yr in np.arange(2002,2019,1):\n",
    "        funddata_dict[str(yr)] = funddata[(funddata['Year'] == yr)]"
   ]
  },
  {
   "cell_type": "code",
   "execution_count": 12,
   "metadata": {},
   "outputs": [],
   "source": [
    "# Create dictionary for mean & standard deviation & 95th percentile & 99th percentile for fund:\n",
    "\n",
    "\n",
    "mean_fund_list = []\n",
    "std_fund_list = []\n",
    "var95_fund_list = []\n",
    "var99_fund_list = []\n",
    "\n",
    "for i in fund_dict:\n",
    "    mean_fund_list.append( np.mean(fund_dict[i]) )\n",
    "    std_fund_list.append( np.std(fund_dict[i]) )\n",
    "    var95_fund_list.append( np.percentile(fund_dict[i],5) )\n",
    "    var99_fund_list.append( np.percentile(fund_dict[i],1) )\n",
    "\n",
    "unique_fund_name_list = [i for i in fund_dict]\n",
    "fund_dict_summary = {}\n",
    "    \n",
    "fund_dict_summary['name'] = unique_fund_name_list\n",
    "fund_dict_summary['mean'] = mean_fund_list\n",
    "fund_dict_summary['std'] = std_fund_list\n",
    "fund_dict_summary['var95'] = var95_fund_list\n",
    "fund_dict_summary['var99'] = var99_fund_list"
   ]
  },
  {
   "cell_type": "code",
   "execution_count": 13,
   "metadata": {},
   "outputs": [],
   "source": [
    "# Create dictionary for mean & standard deviation & 95th percentile & 99th percentile for sector:\n",
    "\n",
    "mean_sector_list = []\n",
    "std_sector_list = []\n",
    "var95_sector_list = []\n",
    "var99_sector_list = []\n",
    "\n",
    "for i in sector_dict:\n",
    "    mean_sector_list.append(  np.mean(sector_dict[i]))\n",
    "    std_sector_list.append(  np.std(sector_dict[i]))\n",
    "    var95_sector_list.append(  np.percentile(sector_dict[i],5))\n",
    "    var99_sector_list.append ( np.percentile(sector_dict[i],1))\n",
    "    \n",
    "unique_sector_name_list = [i for i in sector_dict]\n",
    "sector_dict_summary ={}\n",
    "    \n",
    "sector_dict_summary['name'] = unique_sector_name_list\n",
    "sector_dict_summary['mean'] = mean_sector_list\n",
    "sector_dict_summary['std'] = std_sector_list\n",
    "sector_dict_summary['var95'] = var95_sector_list\n",
    "sector_dict_summary['var99'] = var99_sector_list"
   ]
  },
  {
   "cell_type": "code",
   "execution_count": 14,
   "metadata": {},
   "outputs": [],
   "source": [
    "# Create dictionary for mean & standard deviation & 95th percentile & 99th percentile:  not breakdown to fund details\n",
    "\n",
    "mean_funddata_dict = {}\n",
    "std_funddata_dict = {}\n",
    "var95_funddata_dict = {}\n",
    "var99_funddata_dict = {}\n",
    "\n",
    "for i in funddata_dict:\n",
    "    mean_funddata_dict[i] = np.mean(funddata_dict[i])\n",
    "    std_funddata_dict[i] = np.std(funddata_dict[i])\n",
    "    var95_funddata_dict[i] = np.percentile(funddata_dict[i],5)\n",
    "    var99_funddata_dict[i] = np.percentile(funddata_dict[i],1)"
   ]
  },
  {
   "cell_type": "code",
   "execution_count": 15,
   "metadata": {},
   "outputs": [],
   "source": [
    "# Create dictionary for mean & standard deviation & 95th percentile & 99th percentile:  not breakdown to fund details\n",
    "\n",
    "mean_sectordata_dict = {}\n",
    "std_sectordata_dict = {}\n",
    "var95_sectordata_dict = {}\n",
    "var99_sectordata_dict = {}\n",
    "\n",
    "for i in sectordata_dict:\n",
    "    mean_sectordata_dict[i] = np.mean(sectordata_dict[i])\n",
    "    std_sectordata_dict[i] = np.std(sectordata_dict[i])\n",
    "    var95_sectordata_dict[i] = np.percentile(sectordata_dict[i],5)\n",
    "    var99_sectordata_dict[i] = np.percentile(sectordata_dict[i],1)"
   ]
  },
  {
   "cell_type": "code",
   "execution_count": 16,
   "metadata": {},
   "outputs": [],
   "source": [
    "def stats(data):\n",
    "    stats_table = data.describe()\n",
    "    return stats_table"
   ]
  },
  {
   "cell_type": "code",
   "execution_count": 17,
   "metadata": {},
   "outputs": [],
   "source": [
    "def historical_var(data, confident):\n",
    "    \n",
    "    \"\"\"\n",
    "    Simulate historical value at risk\n",
    "    \n",
    "    Step 1: Calculate the mean of return\n",
    "    Step 2: Calculate the standard deviation for return series\n",
    "    Step 3: Calculate percentile at (100-confident level) \n",
    "    \n",
    "    \"\"\"\n",
    "    mean_ret = np.mean(data)\n",
    "    std = np.std(data)\n",
    "    hist_var = np.percentile(data,100-confident)\n",
    "    return abs(hist_var)\n",
    "\n",
    "def parametric_var(data, confident):\n",
    "    \n",
    "    \"\"\"\n",
    "    calculate parametric value at risk, assume normal distribution\n",
    "    \n",
    "    Step 1: Calculate the mean of return\n",
    "    Step 2: Calculate the standard deviation for return series\n",
    "    Step 3: Generate normal distribution based on the above parameters\n",
    "    Step 4: Calculate percentile at (100-confident level) \n",
    "    \n",
    "    \"\"\"\n",
    "    mean_ret = np.mean(data)\n",
    "    std = np.std(data)\n",
    "    z = norm.ppf(1-confident/100)\n",
    "    para_var = abs(z*std)\n",
    "    return para_var\n",
    "    \n",
    "def montecarlo_var(data,confident):\n",
    "    \n",
    "    \"\"\"\n",
    "    Run Monte Carlo simulation based on estimated parameters, assume normal distribution\n",
    "    \n",
    "    \"\"\"\n",
    "    mean = np.mean(data)\n",
    "    std = np.std(data)\n",
    "    np.random.seed(0)\n",
    "    n_sim = 100000\n",
    "    sim_prc = np.random.lognormal(mean, std,n_sim)\n",
    "    sim_ret = np.log(sim_prc)\n",
    "    sim_var = np.percentile(sim_ret,100 - confident)\n",
    "    return abs(sim_var)\n",
    "\n",
    "def var_cov_var(data,confident):\n",
    "    \"\"\"\n",
    "    Estimate the variance_covariance value at risk, assume normal distribution\n",
    "    \n",
    "    Step 1: Calculate the mean of return\n",
    "    Step 2: Calculate the standard deviation for return series\n",
    "    Step 3: \n",
    "    \n",
    "    \"\"\"\n",
    "    mean = np.mean(data)\n",
    "    std = np.std(data)\n",
    "    \n",
    "    alpha = norm.ppf(1-confident/100, mean, std)\n",
    "    var_cov_var =  abs(alpha)\n",
    "\n",
    "    return var_cov_var"
   ]
  },
  {
   "cell_type": "code",
   "execution_count": 18,
   "metadata": {},
   "outputs": [],
   "source": [
    "def do_all(fund_name,year):\n",
    "    \n",
    "    parameters = {}\n",
    "    \n",
    "    \"\"\" x is fund data\"\"\"\n",
    "    \"\"\" y is the sectordata_np\"\"\"\n",
    "    \n",
    "    y = fund_dict[fund_name+'_'+str(year)]\n",
    "        \n",
    "    x = np.array(sectordata_dict[str(year)].drop(columns = 'Year'))\n",
    "    \n",
    "    reg = LinearRegression().fit(x,y)\n",
    "    \n",
    "    parameters['score'] = reg.score(x,y)\n",
    "    #parameters['coefficient'] = reg.coef_\n",
    "    rep_port = np.matmul(x,reg.coef_)\n",
    "    parameters['hist_var95'] = historical_var(y,95)\n",
    "    parameters['hist_var99'] = historical_var(y,99)\n",
    "    parameters['para_var95'] = parametric_var(y,95)\n",
    "    parameters['para_var99'] = parametric_var(y,99)\n",
    "    parameters['monte_var95'] = montecarlo_var(y,95)\n",
    "    parameters['monte_var99'] = montecarlo_var(y,99)\n",
    "    parameters['cov_var95'] = var_cov_var(y,95)\n",
    "    parameters['cov_var99'] = var_cov_var(y,99)\n",
    "    parameters['decom_var95'] = montecarlo_var(rep_port,95)\n",
    "    parameters['decom_var99'] = montecarlo_var(rep_port,99)\n",
    "    \n",
    "    return parameters"
   ]
  },
  {
   "cell_type": "code",
   "execution_count": 19,
   "metadata": {},
   "outputs": [],
   "source": [
    "# Simulate all data\n",
    "\n",
    "var_dict = {}\n",
    "\n",
    "for i in fund_name_list:\n",
    "    for yr in np.arange(2002,2019,1):\n",
    "        var_dict[i + '_' + str(yr)] = do_all(i,yr)\n"
   ]
  },
  {
   "cell_type": "code",
   "execution_count": 20,
   "metadata": {},
   "outputs": [],
   "source": [
    "# Convert to dataframe\n",
    "\n",
    "df_var_calculation = pd.DataFrame.from_dict(var_dict)\n",
    "df_fund_summary = pd.DataFrame.from_dict(fund_dict_summary)\n",
    "df_sector_summary = pd.DataFrame.from_dict(sector_dict_summary)"
   ]
  },
  {
   "cell_type": "code",
   "execution_count": 20,
   "metadata": {},
   "outputs": [],
   "source": [
    "# Export to csv\n",
    "\n",
    "\n",
    "df_var_calculation.to_csv(r'C:\\Users\\hoang\\Desktop\\Research Paper\\Output\\var_calculation.csv')\n",
    "                          \n",
    "df_fund_summary.to_csv(r'C:\\Users\\hoang\\Desktop\\Research Paper\\Output\\df_fund_summary.csv')\n",
    "                          \n",
    "df_sector_summary.to_csv(r'C:\\Users\\hoang\\Desktop\\Research Paper\\Output\\df_sector_summary.csv')"
   ]
  },
  {
   "cell_type": "code",
   "execution_count": null,
   "metadata": {},
   "outputs": [],
   "source": []
  }
 ],
 "metadata": {
  "kernelspec": {
   "display_name": "Python 3",
   "language": "python",
   "name": "python3"
  },
  "language_info": {
   "codemirror_mode": {
    "name": "ipython",
    "version": 3
   },
   "file_extension": ".py",
   "mimetype": "text/x-python",
   "name": "python",
   "nbconvert_exporter": "python",
   "pygments_lexer": "ipython3",
   "version": "3.7.3"
  }
 },
 "nbformat": 4,
 "nbformat_minor": 2
}
